{
 "cells": [
  {
   "cell_type": "code",
   "execution_count": null,
   "id": "1838a86c-b6e3-4165-9f38-2ae0c59c5913",
   "metadata": {},
   "outputs": [],
   "source": [
    "import pandas as pd\n",
    "import matplotlib.pyplot as plt\n",
    "import seaborn as sns\n",
    "import numpy as np\n",
    "\n",
    "%matplotlib inline\n",
    "\n",
    "df = pd.read_csv(\"amz_uk_price_prediction_dataset.csv\")\n",
    "df.head()"
   ]
  },
  {
   "cell_type": "code",
   "execution_count": null,
   "id": "d2a9cfdd-03b3-498e-8bf5-21f37c6943ef",
   "metadata": {},
   "outputs": [],
   "source": [
    "# Part 1: Understanding Product Categories\n",
    "# Business Question: What are the most popular product categories on Amazon UK, and how do they compare in terms of listing frequency?\n",
    "\n",
    "# 1. Frequency Tables:\n",
    "\n",
    "#Generate a frequency table for the product category.\n",
    "category_frq = (df['category'].value_counts()).head(15)\n",
    "display(category_frq)\n",
    "\n",
    "#Which are the top 5 most listed product categories?\n",
    "print(\"The top5 most listed categories are Sports & Outdoors, Beauty, Handmade Clothing, Shoes & Accessories, Bath & Body and Birthday Gifts.\")"
   ]
  },
  {
   "cell_type": "code",
   "execution_count": null,
   "id": "8029966c-2d54-486e-ae72-82e8eb14f30a",
   "metadata": {},
   "outputs": [],
   "source": [
    "# 2. Visualizations:\n",
    "\n",
    "# Display the distribution of products across different categories using a bar chart. If you face problems understanding the chart, do it for a subset of top categories.\n",
    "ax = sns.barplot(x=category_frq.index, y=category_frq.values, palette=\"Set3\", hue = category_frq.index, legend = True)\n",
    "sns.move_legend(ax, \"upper right\", fontsize='small')\n",
    "\n",
    "plt.xticks(rotation=45, ha='right')\n",
    "ax.set_ylabel(\"number of articles\")\n",
    "ax.set_xlabel(\"category\")\n",
    "\n",
    "plt.show()\n",
    "\n",
    "#For a subset of top categories, visualize their proportions using a pie chart. Does any category dominate the listings?\n",
    "category_frq.plot.pie(autopct='%.1f%%', startangle=45, colors=sns.color_palette(\"Set3\"), pctdistance=0.85)\n",
    "plt.ylabel('')\n",
    "plt.show()\n",
    "print(\"The category 'Sport & Outdoors' dominates the listing by far, making up for 76% of products.\")"
   ]
  },
  {
   "cell_type": "code",
   "execution_count": null,
   "id": "d29570a1-4262-4c2a-b9c0-8ebf23488462",
   "metadata": {},
   "outputs": [],
   "source": [
    "# Part 2: Delving into Product Pricing\n",
    "# Business Question: How are products priced on Amazon UK, and are there specific price points or ranges that are more common?\n",
    "\n",
    "# 1. Measures of Centrality:\n",
    "\n",
    "# Calculate the mean, median, and mode for the price of products.\n",
    "display(df.price.mean())\n",
    "display(df.price.median())\n",
    "display(df.price.mode())\n",
    "\n",
    "# What's the average price point of products listed? How does this compare with the most common price point (mode)?\n",
    "print(\"The average price of all products listed is 89,24 GBP, while the median is only 19,09 GBP. This indicates that there are very high priced items listed, that pull the average price up.\")\n"
   ]
  },
  {
   "cell_type": "code",
   "execution_count": null,
   "id": "d550450f-882f-47db-9a2f-821f5550d36a",
   "metadata": {},
   "outputs": [],
   "source": [
    "# 2. Measures of Dispersion:\n",
    "\n",
    "# Determine the variance, standard deviation, range, and interquartile range for product price.\n",
    "display(df.price.var())\n",
    "display(df.price.std())\n",
    "display(df.price.max() - df.price.min())\n",
    "display(df.price.quantile(3/4) - df.price.quantile(1/4))\n",
    "\n",
    "# How varied are the product prices? Are there any indicators of a significant spread in prices?\n",
    "print(\"I would say that the spread between prices is high. The std shows that the prices deviate around the mean by 346 GBP on average. I would consider that a big spread. Also the range of 100000 GBP indicates a veray big gap between lowest and highest price point. What is interesting, is that the interquartile range is only 36. I assume that is beacuse the extreme values are above the 75% quartile.\")\n"
   ]
  },
  {
   "cell_type": "code",
   "execution_count": null,
   "id": "5f41c6a2-00e8-46c3-b5b5-3223935afcd6",
   "metadata": {},
   "outputs": [],
   "source": [
    "# 3. Visualizations:\n",
    "\n",
    "# Is there a specific price range where most products fall? Plot a histogram to visualize the distribution of product prices. If its hard to read these diagrams, think why this is, and explain how it could be solved..\n",
    "sns.histplot(df['price'], bins=100, color=\"salmon\");\n",
    "plt.show()\n",
    "print(\"The problem is, that the vast majority of prices fall into one bin but since the range is so bit you don't really see any other bins. The smaller you make the bins the more spread you can see but that will make the bars thinner and thinner. The solution would be to only look at specific range of prices.\")\n",
    "# Are there products that are priced significantly higher than the rest? Use a box plot to showcase the spread and potential outliers in product pricing.\n",
    "sns.boxplot(x = df['price'], color=\"lightblue\")\n",
    "plt.show()\n",
    "print(\"There seems to be a long tail of higher prices but two significant outliers around 80000 GBP and 100000 GBP.\")"
   ]
  },
  {
   "cell_type": "code",
   "execution_count": null,
   "id": "faa1e558-2161-4262-bd00-22dd1f30fc1f",
   "metadata": {},
   "outputs": [],
   "source": [
    "# Part 3: Unpacking Product Ratings\n",
    "# Business Question: How do customers rate products on Amazon UK, and are there any patterns or tendencies in the ratings?\n",
    "\n",
    "# 1. Measures of Centrality:\n",
    "\n",
    "# Calculate the mean, median, and mode for the rating of products.\n",
    "display(df.stars.mean())\n",
    "display(df.stars.median())\n",
    "display(df.stars.mode())\n",
    "\n",
    "display(df.stars.value_counts())\n",
    "\n",
    "filtered_df = df[df.stars > 0.0] \n",
    "display(filtered_df.stars.mean())\n",
    "display(filtered_df.stars.median())\n",
    "display(filtered_df.stars.mode())\n",
    "\n",
    "# How do customers generally rate products? Is there a common trend?\n",
    "print(\"The median and mode are 0, which may mean that customers didn't rate the articles at all as it's not possible to give 0 stars. Assuming that 0 stars mean no ratings, filtering out the 0 values will give a more accurate picture. Without 0 star ratings, the average rating is 4.3 and the median is 4.4, which indicates that the articles are generally rated very well above 4 stars once the customers rate an article\")\n"
   ]
  },
  {
   "cell_type": "code",
   "execution_count": null,
   "id": "181601e0-bc40-4566-ab15-4a6b13ea2acb",
   "metadata": {},
   "outputs": [],
   "source": [
    "# 2. Measures of Dispersion:\n",
    "\n",
    "# Determine the variance, standard deviation, and interquartile range for product rating.\n",
    "display(filtered_df[\"stars\"].var())\n",
    "display(filtered_df[\"stars\"].std())\n",
    "display(filtered_df.stars.quantile(0.75) - filtered_df.stars.quantile(0.25))\n",
    "\n",
    "# Are the ratings consistent, or is there a wide variation in customer feedback?\n",
    "print(\"Something looks odd, because the variance is smaller than the std but I can't tell what it is. The numbers together with the interquartile range nevertheless indicate, that most customers rate between 4 and 5 stars.\")\n"
   ]
  },
  {
   "cell_type": "code",
   "execution_count": null,
   "id": "6178801f-bc7e-4478-975f-5332f4d0ddb9",
   "metadata": {},
   "outputs": [],
   "source": [
    "# 3. Shape of the Distribution:\n",
    "\n",
    "# Calculate the skewness and kurtosis for the rating column.\n",
    "skewness_rating = filtered_df['stars'].skew()\n",
    "kurtosis_rating = filtered_df['stars'].kurtosis()\n",
    "\n",
    "skewness_rating, kurtosis_rating\n",
    "\n",
    "# Are the ratings normally distributed, or do they lean towards higher or lower values?\n",
    "print(\"The negative value of skewness (-2.38) indicates that the distribution is left-skewed. This means that the tail on the left side (lower ratings) is longer than the left side. This suggests that there are a significant number of ratings that are low, acting as outliers and pulling the mean down. Kurtosis: The kurtosis value of 9.78 is greater than 3, which indicates that the rating distribution has heavier tails and a sharper peak compared to a normal distribution. This means that there are more outliers (extreme values) than one would expect in a normally distributed set.\")"
   ]
  },
  {
   "cell_type": "code",
   "execution_count": null,
   "id": "753a0249-8ac0-4bce-9ca8-a89bf219dc75",
   "metadata": {},
   "outputs": [],
   "source": [
    "# 4. Visualizations:\n",
    "\n",
    "# Plot a histogram to visualize the distribution of product ratings. Is there a specific rating that is more common?\n",
    "sns.histplot(filtered_df['stars'], bins=50, color=\"salmon\");\n",
    "plt.show()\n",
    "print(\"The most common rating besides no rating is 4.5.\")"
   ]
  },
  {
   "cell_type": "code",
   "execution_count": null,
   "id": "43a3fea8-7414-4576-b0b0-438d65280fd9",
   "metadata": {},
   "outputs": [],
   "source": []
  }
 ],
 "metadata": {
  "kernelspec": {
   "display_name": "Python [conda env:base] *",
   "language": "python",
   "name": "conda-base-py"
  },
  "language_info": {
   "codemirror_mode": {
    "name": "ipython",
    "version": 3
   },
   "file_extension": ".py",
   "mimetype": "text/x-python",
   "name": "python",
   "nbconvert_exporter": "python",
   "pygments_lexer": "ipython3",
   "version": "3.12.7"
  }
 },
 "nbformat": 4,
 "nbformat_minor": 5
}
